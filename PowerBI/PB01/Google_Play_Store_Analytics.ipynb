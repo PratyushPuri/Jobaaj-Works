{
  "cells": [
    {
      "cell_type": "markdown",
      "metadata": {
        "id": "SRQdKyC0rSz5"
      },
      "source": [
        "# GOOGLE PLAY STORE DATA CLEANING\n",
        "### Made By - [`Pratyush Puri`](https://www.pratyushpuri.space)\n",
        "### [`Linkedin`](https://www.linkedin.com/in/pratyushpuri) --- [`GitHub`](https://www.github.com/PratyushPuri)\n",
        "\n",
        "<br><br>\n",
        "\n",
        "## DATA LOADING AND INITIAL EXPLORATION\n"
      ]
    },
    {
      "cell_type": "code",
      "execution_count": 1,
      "metadata": {
        "id": "a4yPzZTRrFC1"
      },
      "outputs": [],
      "source": [
        "#importing necessary packages\n",
        "import pandas as pd\n",
        "import numpy as np\n",
        "import matplotlib.pyplot as plt\n",
        "import seaborn as sns\n",
        "import warnings as w\n",
        "\n",
        "w.filterwarnings('ignore')\n",
        "pd.set_option('display.max_columns', None)"
      ]
    },
    {
      "cell_type": "code",
      "execution_count": 2,
      "metadata": {
        "colab": {
          "base_uri": "https://localhost:8080/",
          "height": 269
        },
        "id": "vrNsF6DdsiJp",
        "outputId": "1e7876e5-9f03-4534-9b75-a6472f4d38d0"
      },
      "outputs": [
        {
          "data": {
            "text/html": [
              "<div>\n",
              "<style scoped>\n",
              "    .dataframe tbody tr th:only-of-type {\n",
              "        vertical-align: middle;\n",
              "    }\n",
              "\n",
              "    .dataframe tbody tr th {\n",
              "        vertical-align: top;\n",
              "    }\n",
              "\n",
              "    .dataframe thead th {\n",
              "        text-align: right;\n",
              "    }\n",
              "</style>\n",
              "<table border=\"1\" class=\"dataframe\">\n",
              "  <thead>\n",
              "    <tr style=\"text-align: right;\">\n",
              "      <th></th>\n",
              "      <th>App</th>\n",
              "      <th>Category</th>\n",
              "      <th>Rating</th>\n",
              "      <th>Reviews</th>\n",
              "      <th>Size</th>\n",
              "      <th>Installs</th>\n",
              "      <th>Type</th>\n",
              "      <th>Price</th>\n",
              "      <th>Content Rating</th>\n",
              "      <th>Genres</th>\n",
              "      <th>Last Updated</th>\n",
              "      <th>Current Ver</th>\n",
              "      <th>Android Ver</th>\n",
              "    </tr>\n",
              "  </thead>\n",
              "  <tbody>\n",
              "    <tr>\n",
              "      <th>9013</th>\n",
              "      <td>DW Maps</td>\n",
              "      <td>TRAVEL_AND_LOCAL</td>\n",
              "      <td>3.7</td>\n",
              "      <td>35</td>\n",
              "      <td>13M</td>\n",
              "      <td>10,000+</td>\n",
              "      <td>Free</td>\n",
              "      <td>0</td>\n",
              "      <td>Everyone</td>\n",
              "      <td>Travel &amp; Local</td>\n",
              "      <td>June 6, 2017</td>\n",
              "      <td>1.9</td>\n",
              "      <td>2.3.3 and up</td>\n",
              "    </tr>\n",
              "    <tr>\n",
              "      <th>4710</th>\n",
              "      <td>Cheat Codes for GTA V</td>\n",
              "      <td>FAMILY</td>\n",
              "      <td>4.3</td>\n",
              "      <td>589</td>\n",
              "      <td>3.6M</td>\n",
              "      <td>100,000+</td>\n",
              "      <td>Free</td>\n",
              "      <td>0</td>\n",
              "      <td>Mature 17+</td>\n",
              "      <td>Entertainment</td>\n",
              "      <td>September 3, 2017</td>\n",
              "      <td>1.8.0</td>\n",
              "      <td>4.0 and up</td>\n",
              "    </tr>\n",
              "    <tr>\n",
              "      <th>10411</th>\n",
              "      <td>FH Kufstein App</td>\n",
              "      <td>FAMILY</td>\n",
              "      <td>NaN</td>\n",
              "      <td>9</td>\n",
              "      <td>20M</td>\n",
              "      <td>500+</td>\n",
              "      <td>Free</td>\n",
              "      <td>0</td>\n",
              "      <td>Everyone</td>\n",
              "      <td>Education</td>\n",
              "      <td>November 20, 2017</td>\n",
              "      <td>2.3.1</td>\n",
              "      <td>4.4 and up</td>\n",
              "    </tr>\n",
              "    <tr>\n",
              "      <th>8853</th>\n",
              "      <td>Real Sheet ∞: Pathfinder + DT</td>\n",
              "      <td>FAMILY</td>\n",
              "      <td>3.5</td>\n",
              "      <td>2</td>\n",
              "      <td>22M</td>\n",
              "      <td>50+</td>\n",
              "      <td>Paid</td>\n",
              "      <td>$2.99</td>\n",
              "      <td>Everyone</td>\n",
              "      <td>Role Playing</td>\n",
              "      <td>March 20, 2017</td>\n",
              "      <td>1.1</td>\n",
              "      <td>4.2 and up</td>\n",
              "    </tr>\n",
              "    <tr>\n",
              "      <th>8787</th>\n",
              "      <td>Dr. Splorchy Presents Space Heroes</td>\n",
              "      <td>GAME</td>\n",
              "      <td>4.6</td>\n",
              "      <td>18</td>\n",
              "      <td>31M</td>\n",
              "      <td>100+</td>\n",
              "      <td>Paid</td>\n",
              "      <td>$4.99</td>\n",
              "      <td>Mature 17+</td>\n",
              "      <td>Adventure</td>\n",
              "      <td>July 23, 2018</td>\n",
              "      <td>1.0</td>\n",
              "      <td>7.0 and up</td>\n",
              "    </tr>\n",
              "    <tr>\n",
              "      <th>1483</th>\n",
              "      <td>House app: beautiful everyday ~</td>\n",
              "      <td>HOUSE_AND_HOME</td>\n",
              "      <td>4.6</td>\n",
              "      <td>2669</td>\n",
              "      <td>10M</td>\n",
              "      <td>500,000+</td>\n",
              "      <td>Free</td>\n",
              "      <td>0</td>\n",
              "      <td>Teen</td>\n",
              "      <td>House &amp; Home</td>\n",
              "      <td>August 3, 2018</td>\n",
              "      <td>2.0.6.9</td>\n",
              "      <td>4.1 and up</td>\n",
              "    </tr>\n",
              "    <tr>\n",
              "      <th>7965</th>\n",
              "      <td>CV Builder</td>\n",
              "      <td>BUSINESS</td>\n",
              "      <td>3.8</td>\n",
              "      <td>203</td>\n",
              "      <td>5.9M</td>\n",
              "      <td>10,000+</td>\n",
              "      <td>Free</td>\n",
              "      <td>0</td>\n",
              "      <td>Everyone</td>\n",
              "      <td>Business</td>\n",
              "      <td>September 30, 2016</td>\n",
              "      <td>2.2.1.0</td>\n",
              "      <td>2.3 and up</td>\n",
              "    </tr>\n",
              "  </tbody>\n",
              "</table>\n",
              "</div>"
            ],
            "text/plain": [
              "                                      App          Category  Rating Reviews  \\\n",
              "9013                              DW Maps  TRAVEL_AND_LOCAL     3.7      35   \n",
              "4710                Cheat Codes for GTA V            FAMILY     4.3     589   \n",
              "10411                     FH Kufstein App            FAMILY     NaN       9   \n",
              "8853        Real Sheet ∞: Pathfinder + DT            FAMILY     3.5       2   \n",
              "8787   Dr. Splorchy Presents Space Heroes              GAME     4.6      18   \n",
              "1483      House app: beautiful everyday ~    HOUSE_AND_HOME     4.6    2669   \n",
              "7965                           CV Builder          BUSINESS     3.8     203   \n",
              "\n",
              "       Size  Installs  Type  Price Content Rating          Genres  \\\n",
              "9013    13M   10,000+  Free      0       Everyone  Travel & Local   \n",
              "4710   3.6M  100,000+  Free      0     Mature 17+   Entertainment   \n",
              "10411   20M      500+  Free      0       Everyone       Education   \n",
              "8853    22M       50+  Paid  $2.99       Everyone    Role Playing   \n",
              "8787    31M      100+  Paid  $4.99     Mature 17+       Adventure   \n",
              "1483    10M  500,000+  Free      0           Teen    House & Home   \n",
              "7965   5.9M   10,000+  Free      0       Everyone        Business   \n",
              "\n",
              "             Last Updated Current Ver   Android Ver  \n",
              "9013         June 6, 2017         1.9  2.3.3 and up  \n",
              "4710    September 3, 2017       1.8.0    4.0 and up  \n",
              "10411   November 20, 2017       2.3.1    4.4 and up  \n",
              "8853       March 20, 2017         1.1    4.2 and up  \n",
              "8787        July 23, 2018         1.0    7.0 and up  \n",
              "1483       August 3, 2018     2.0.6.9    4.1 and up  \n",
              "7965   September 30, 2016     2.2.1.0    2.3 and up  "
            ]
          },
          "execution_count": 2,
          "metadata": {},
          "output_type": "execute_result"
        }
      ],
      "source": [
        "#data loading\n",
        "url = 'https://raw.githubusercontent.com/PratyushPuri/ProjectDatasets/main/googleplaystore.csv'\n",
        "df = pd.read_csv(url)\n",
        "df.sample(7)"
      ]
    },
    {
      "cell_type": "code",
      "execution_count": 3,
      "metadata": {
        "colab": {
          "base_uri": "https://localhost:8080/",
          "height": 54
        },
        "id": "8kJGFsJds60R",
        "outputId": "8eb217ac-e731-42d2-ede0-cb0d0ebaa1da"
      },
      "outputs": [
        {
          "data": {
            "text/plain": [
              "'Total Features in the dataset are 13'"
            ]
          },
          "metadata": {},
          "output_type": "display_data"
        },
        {
          "data": {
            "text/plain": [
              "'Total Records in the dataset are 10841'"
            ]
          },
          "metadata": {},
          "output_type": "display_data"
        }
      ],
      "source": [
        "# verification of total records\n",
        "\n",
        "display(f'Total Features in the dataset are {df.shape[1]}')\n",
        "display(f'Total Records in the dataset are {df.shape[0]}')"
      ]
    },
    {
      "cell_type": "code",
      "execution_count": 4,
      "metadata": {
        "colab": {
          "base_uri": "https://localhost:8080/",
          "height": 243
        },
        "id": "XAwPo-qltXTh",
        "outputId": "43cf8db2-2b24-4e17-d5ea-9e0d3c545eef"
      },
      "outputs": [
        {
          "data": {
            "text/plain": [
              "['App',\n",
              " 'Category',\n",
              " 'Rating',\n",
              " 'Reviews',\n",
              " 'Size',\n",
              " 'Installs',\n",
              " 'Type',\n",
              " 'Price',\n",
              " 'Content Rating',\n",
              " 'Genres',\n",
              " 'Last Updated',\n",
              " 'Current Ver',\n",
              " 'Android Ver']"
            ]
          },
          "metadata": {},
          "output_type": "display_data"
        }
      ],
      "source": [
        "# describing columns in the dataset\n",
        "display(df.columns.to_list())"
      ]
    },
    {
      "cell_type": "code",
      "execution_count": 5,
      "metadata": {
        "colab": {
          "base_uri": "https://localhost:8080/",
          "height": 492
        },
        "id": "s9MuDdNjtxMH",
        "outputId": "a9aa6eaf-195f-4491-de24-fd885c6b6c78"
      },
      "outputs": [
        {
          "data": {
            "text/plain": [
              "App                object\n",
              "Category           object\n",
              "Rating            float64\n",
              "Reviews            object\n",
              "Size               object\n",
              "Installs           object\n",
              "Type               object\n",
              "Price              object\n",
              "Content Rating     object\n",
              "Genres             object\n",
              "Last Updated       object\n",
              "Current Ver        object\n",
              "Android Ver        object\n",
              "dtype: object"
            ]
          },
          "metadata": {},
          "output_type": "display_data"
        }
      ],
      "source": [
        "# giving all datatypes of the columns\n",
        "display(df.dtypes)"
      ]
    },
    {
      "cell_type": "code",
      "execution_count": 6,
      "metadata": {
        "colab": {
          "base_uri": "https://localhost:8080/",
          "height": 492
        },
        "id": "jlokkbTouJ8A",
        "outputId": "4d198e1c-e6dc-40e3-e449-85db70bdef9a"
      },
      "outputs": [
        {
          "data": {
            "text/plain": [
              "App               9660\n",
              "Category            34\n",
              "Rating              40\n",
              "Reviews           6002\n",
              "Size               462\n",
              "Installs            22\n",
              "Type                 3\n",
              "Price               93\n",
              "Content Rating       6\n",
              "Genres             120\n",
              "Last Updated      1378\n",
              "Current Ver       2832\n",
              "Android Ver         33\n",
              "dtype: int64"
            ]
          },
          "metadata": {},
          "output_type": "display_data"
        }
      ],
      "source": [
        "#checking for unique values present\n",
        "display(df.nunique())"
      ]
    },
    {
      "cell_type": "code",
      "execution_count": 7,
      "metadata": {
        "colab": {
          "base_uri": "https://localhost:8080/",
          "height": 480
        },
        "id": "0BZmyazguoXZ",
        "outputId": "3a54a878-d2b9-4cf2-c4b6-5d11502f97d6"
      },
      "outputs": [
        {
          "data": {
            "text/plain": [
              "<Axes: >"
            ]
          },
          "metadata": {},
          "output_type": "display_data"
        },
        {
          "data": {
            "image/png": "[encoded data removed]",
            "text/plain": [
              "<Figure size 640x480 with 1 Axes>"
            ]
          },
          "metadata": {},
          "output_type": "display_data"
        }
      ],
      "source": [
        "#describing the columns present\n",
        "display(df.describe(include='all').plot(kind='bar'))"
      ]
    },
    {
      "cell_type": "code",
      "execution_count": 8,
      "metadata": {
        "colab": {
          "base_uri": "https://localhost:8080/",
          "height": 457
        },
        "id": "SJ-MtsCOvMto",
        "outputId": "3bf8880c-afd9-452e-aa0b-3f1f95818445"
      },
      "outputs": [
        {
          "data": {
            "text/html": [
              "<div>\n",
              "<style scoped>\n",
              "    .dataframe tbody tr th:only-of-type {\n",
              "        vertical-align: middle;\n",
              "    }\n",
              "\n",
              "    .dataframe tbody tr th {\n",
              "        vertical-align: top;\n",
              "    }\n",
              "\n",
              "    .dataframe thead th {\n",
              "        text-align: right;\n",
              "    }\n",
              "</style>\n",
              "<table border=\"1\" class=\"dataframe\">\n",
              "  <thead>\n",
              "    <tr style=\"text-align: right;\">\n",
              "      <th></th>\n",
              "      <th>count</th>\n",
              "      <th>unique</th>\n",
              "      <th>top</th>\n",
              "      <th>freq</th>\n",
              "      <th>mean</th>\n",
              "      <th>std</th>\n",
              "      <th>min</th>\n",
              "      <th>25%</th>\n",
              "      <th>50%</th>\n",
              "      <th>75%</th>\n",
              "      <th>max</th>\n",
              "    </tr>\n",
              "  </thead>\n",
              "  <tbody>\n",
              "    <tr>\n",
              "      <th>App</th>\n",
              "      <td>10841</td>\n",
              "      <td>9660</td>\n",
              "      <td>ROBLOX</td>\n",
              "      <td>9</td>\n",
              "      <td>NaN</td>\n",
              "      <td>NaN</td>\n",
              "      <td>NaN</td>\n",
              "      <td>NaN</td>\n",
              "      <td>NaN</td>\n",
              "      <td>NaN</td>\n",
              "      <td>NaN</td>\n",
              "    </tr>\n",
              "    <tr>\n",
              "      <th>Category</th>\n",
              "      <td>10841</td>\n",
              "      <td>34</td>\n",
              "      <td>FAMILY</td>\n",
              "      <td>1972</td>\n",
              "      <td>NaN</td>\n",
              "      <td>NaN</td>\n",
              "      <td>NaN</td>\n",
              "      <td>NaN</td>\n",
              "      <td>NaN</td>\n",
              "      <td>NaN</td>\n",
              "      <td>NaN</td>\n",
              "    </tr>\n",
              "    <tr>\n",
              "      <th>Rating</th>\n",
              "      <td>9367.0</td>\n",
              "      <td>NaN</td>\n",
              "      <td>NaN</td>\n",
              "      <td>NaN</td>\n",
              "      <td>4.193338</td>\n",
              "      <td>0.537431</td>\n",
              "      <td>1.0</td>\n",
              "      <td>4.0</td>\n",
              "      <td>4.3</td>\n",
              "      <td>4.5</td>\n",
              "      <td>19.0</td>\n",
              "    </tr>\n",
              "    <tr>\n",
              "      <th>Reviews</th>\n",
              "      <td>10841</td>\n",
              "      <td>6002</td>\n",
              "      <td>0</td>\n",
              "      <td>596</td>\n",
              "      <td>NaN</td>\n",
              "      <td>NaN</td>\n",
              "      <td>NaN</td>\n",
              "      <td>NaN</td>\n",
              "      <td>NaN</td>\n",
              "      <td>NaN</td>\n",
              "      <td>NaN</td>\n",
              "    </tr>\n",
              "    <tr>\n",
              "      <th>Size</th>\n",
              "      <td>10841</td>\n",
              "      <td>462</td>\n",
              "      <td>Varies with device</td>\n",
              "      <td>1695</td>\n",
              "      <td>NaN</td>\n",
              "      <td>NaN</td>\n",
              "      <td>NaN</td>\n",
              "      <td>NaN</td>\n",
              "      <td>NaN</td>\n",
              "      <td>NaN</td>\n",
              "      <td>NaN</td>\n",
              "    </tr>\n",
              "    <tr>\n",
              "      <th>Installs</th>\n",
              "      <td>10841</td>\n",
              "      <td>22</td>\n",
              "      <td>1,000,000+</td>\n",
              "      <td>1579</td>\n",
              "      <td>NaN</td>\n",
              "      <td>NaN</td>\n",
              "      <td>NaN</td>\n",
              "      <td>NaN</td>\n",
              "      <td>NaN</td>\n",
              "      <td>NaN</td>\n",
              "      <td>NaN</td>\n",
              "    </tr>\n",
              "    <tr>\n",
              "      <th>Type</th>\n",
              "      <td>10840</td>\n",
              "      <td>3</td>\n",
              "      <td>Free</td>\n",
              "      <td>10039</td>\n",
              "      <td>NaN</td>\n",
              "      <td>NaN</td>\n",
              "      <td>NaN</td>\n",
              "      <td>NaN</td>\n",
              "      <td>NaN</td>\n",
              "      <td>NaN</td>\n",
              "      <td>NaN</td>\n",
              "    </tr>\n",
              "    <tr>\n",
              "      <th>Price</th>\n",
              "      <td>10841</td>\n",
              "      <td>93</td>\n",
              "      <td>0</td>\n",
              "      <td>10040</td>\n",
              "      <td>NaN</td>\n",
              "      <td>NaN</td>\n",
              "      <td>NaN</td>\n",
              "      <td>NaN</td>\n",
              "      <td>NaN</td>\n",
              "      <td>NaN</td>\n",
              "      <td>NaN</td>\n",
              "    </tr>\n",
              "    <tr>\n",
              "      <th>Content Rating</th>\n",
              "      <td>10840</td>\n",
              "      <td>6</td>\n",
              "      <td>Everyone</td>\n",
              "      <td>8714</td>\n",
              "      <td>NaN</td>\n",
              "      <td>NaN</td>\n",
              "      <td>NaN</td>\n",
              "      <td>NaN</td>\n",
              "      <td>NaN</td>\n",
              "      <td>NaN</td>\n",
              "      <td>NaN</td>\n",
              "    </tr>\n",
              "    <tr>\n",
              "      <th>Genres</th>\n",
              "      <td>10841</td>\n",
              "      <td>120</td>\n",
              "      <td>Tools</td>\n",
              "      <td>842</td>\n",
              "      <td>NaN</td>\n",
              "      <td>NaN</td>\n",
              "      <td>NaN</td>\n",
              "      <td>NaN</td>\n",
              "      <td>NaN</td>\n",
              "      <td>NaN</td>\n",
              "      <td>NaN</td>\n",
              "    </tr>\n",
              "    <tr>\n",
              "      <th>Last Updated</th>\n",
              "      <td>10841</td>\n",
              "      <td>1378</td>\n",
              "      <td>August 3, 2018</td>\n",
              "      <td>326</td>\n",
              "      <td>NaN</td>\n",
              "      <td>NaN</td>\n",
              "      <td>NaN</td>\n",
              "      <td>NaN</td>\n",
              "      <td>NaN</td>\n",
              "      <td>NaN</td>\n",
              "      <td>NaN</td>\n",
              "    </tr>\n",
              "    <tr>\n",
              "      <th>Current Ver</th>\n",
              "      <td>10833</td>\n",
              "      <td>2832</td>\n",
              "      <td>Varies with device</td>\n",
              "      <td>1459</td>\n",
              "      <td>NaN</td>\n",
              "      <td>NaN</td>\n",
              "      <td>NaN</td>\n",
              "      <td>NaN</td>\n",
              "      <td>NaN</td>\n",
              "      <td>NaN</td>\n",
              "      <td>NaN</td>\n",
              "    </tr>\n",
              "    <tr>\n",
              "      <th>Android Ver</th>\n",
              "      <td>10838</td>\n",
              "      <td>33</td>\n",
              "      <td>4.1 and up</td>\n",
              "      <td>2451</td>\n",
              "      <td>NaN</td>\n",
              "      <td>NaN</td>\n",
              "      <td>NaN</td>\n",
              "      <td>NaN</td>\n",
              "      <td>NaN</td>\n",
              "      <td>NaN</td>\n",
              "      <td>NaN</td>\n",
              "    </tr>\n",
              "  </tbody>\n",
              "</table>\n",
              "</div>"
            ],
            "text/plain": [
              "                 count unique                 top   freq      mean       std  \\\n",
              "App              10841   9660              ROBLOX      9       NaN       NaN   \n",
              "Category         10841     34              FAMILY   1972       NaN       NaN   \n",
              "Rating          9367.0    NaN                 NaN    NaN  4.193338  0.537431   \n",
              "Reviews          10841   6002                   0    596       NaN       NaN   \n",
              "Size             10841    462  Varies with device   1695       NaN       NaN   \n",
              "Installs         10841     22          1,000,000+   1579       NaN       NaN   \n",
              "Type             10840      3                Free  10039       NaN       NaN   \n",
              "Price            10841     93                   0  10040       NaN       NaN   \n",
              "Content Rating   10840      6            Everyone   8714       NaN       NaN   \n",
              "Genres           10841    120               Tools    842       NaN       NaN   \n",
              "Last Updated     10841   1378      August 3, 2018    326       NaN       NaN   \n",
              "Current Ver      10833   2832  Varies with device   1459       NaN       NaN   \n",
              "Android Ver      10838     33          4.1 and up   2451       NaN       NaN   \n",
              "\n",
              "                min  25%  50%  75%   max  \n",
              "App             NaN  NaN  NaN  NaN   NaN  \n",
              "Category        NaN  NaN  NaN  NaN   NaN  \n",
              "Rating          1.0  4.0  4.3  4.5  19.0  \n",
              "Reviews         NaN  NaN  NaN  NaN   NaN  \n",
              "Size            NaN  NaN  NaN  NaN   NaN  \n",
              "Installs        NaN  NaN  NaN  NaN   NaN  \n",
              "Type            NaN  NaN  NaN  NaN   NaN  \n",
              "Price           NaN  NaN  NaN  NaN   NaN  \n",
              "Content Rating  NaN  NaN  NaN  NaN   NaN  \n",
              "Genres          NaN  NaN  NaN  NaN   NaN  \n",
              "Last Updated    NaN  NaN  NaN  NaN   NaN  \n",
              "Current Ver     NaN  NaN  NaN  NaN   NaN  \n",
              "Android Ver     NaN  NaN  NaN  NaN   NaN  "
            ]
          },
          "metadata": {},
          "output_type": "display_data"
        }
      ],
      "source": [
        "display(df.describe(include='all').T)"
      ]
    },
    {
      "cell_type": "code",
      "execution_count": 9,
      "metadata": {
        "colab": {
          "base_uri": "https://localhost:8080/",
          "height": 382
        },
        "id": "sGpKdCl2vSJH",
        "outputId": "f43ba477-0bae-4e98-c2f3-00946badcf29"
      },
      "outputs": [
        {
          "name": "stdout",
          "output_type": "stream",
          "text": [
            "<class 'pandas.core.frame.DataFrame'>\n",
            "RangeIndex: 10841 entries, 0 to 10840\n",
            "Data columns (total 13 columns):\n",
            " #   Column          Non-Null Count  Dtype  \n",
            "---  ------          --------------  -----  \n",
            " 0   App             10841 non-null  object \n",
            " 1   Category        10841 non-null  object \n",
            " 2   Rating          9367 non-null   float64\n",
            " 3   Reviews         10841 non-null  object \n",
            " 4   Size            10841 non-null  object \n",
            " 5   Installs        10841 non-null  object \n",
            " 6   Type            10840 non-null  object \n",
            " 7   Price           10841 non-null  object \n",
            " 8   Content Rating  10840 non-null  object \n",
            " 9   Genres          10841 non-null  object \n",
            " 10  Last Updated    10841 non-null  object \n",
            " 11  Current Ver     10833 non-null  object \n",
            " 12  Android Ver     10838 non-null  object \n",
            "dtypes: float64(1), object(12)\n",
            "memory usage: 1.1+ MB\n"
          ]
        },
        {
          "data": {
            "text/plain": [
              "None"
            ]
          },
          "metadata": {},
          "output_type": "display_data"
        }
      ],
      "source": [
        "# checking information about all features\n",
        "display(df.info())"
      ]
    },
    {
      "cell_type": "code",
      "execution_count": 10,
      "metadata": {
        "colab": {
          "base_uri": "https://localhost:8080/",
          "height": 81
        },
        "id": "oamLp3_2vX-Q",
        "outputId": "83c9998c-17f7-4b67-854f-18789035aa95"
      },
      "outputs": [
        {
          "data": {
            "text/html": [
              "<div>\n",
              "<style scoped>\n",
              "    .dataframe tbody tr th:only-of-type {\n",
              "        vertical-align: middle;\n",
              "    }\n",
              "\n",
              "    .dataframe tbody tr th {\n",
              "        vertical-align: top;\n",
              "    }\n",
              "\n",
              "    .dataframe thead th {\n",
              "        text-align: right;\n",
              "    }\n",
              "</style>\n",
              "<table border=\"1\" class=\"dataframe\">\n",
              "  <thead>\n",
              "    <tr style=\"text-align: right;\">\n",
              "      <th></th>\n",
              "      <th>App</th>\n",
              "      <th>Category</th>\n",
              "      <th>Rating</th>\n",
              "      <th>Reviews</th>\n",
              "      <th>Size</th>\n",
              "      <th>Installs</th>\n",
              "      <th>Type</th>\n",
              "      <th>Price</th>\n",
              "      <th>Content Rating</th>\n",
              "      <th>Genres</th>\n",
              "      <th>Last Updated</th>\n",
              "      <th>Current Ver</th>\n",
              "      <th>Android Ver</th>\n",
              "    </tr>\n",
              "  </thead>\n",
              "  <tbody>\n",
              "    <tr>\n",
              "      <th>3344</th>\n",
              "      <td>Solo Locker (DIY Locker)</td>\n",
              "      <td>TOOLS</td>\n",
              "      <td>4.5</td>\n",
              "      <td>474439</td>\n",
              "      <td>7.9M</td>\n",
              "      <td>10,000,000+</td>\n",
              "      <td>Free</td>\n",
              "      <td>0</td>\n",
              "      <td>Everyone</td>\n",
              "      <td>Tools</td>\n",
              "      <td>June 26, 2018</td>\n",
              "      <td>6.1.7.5</td>\n",
              "      <td>4.2 and up</td>\n",
              "    </tr>\n",
              "  </tbody>\n",
              "</table>\n",
              "</div>"
            ],
            "text/plain": [
              "                           App Category  Rating Reviews  Size     Installs  \\\n",
              "3344  Solo Locker (DIY Locker)    TOOLS     4.5  474439  7.9M  10,000,000+   \n",
              "\n",
              "      Type Price Content Rating Genres   Last Updated Current Ver Android Ver  \n",
              "3344  Free     0       Everyone  Tools  June 26, 2018     6.1.7.5  4.2 and up  "
            ]
          },
          "execution_count": 10,
          "metadata": {},
          "output_type": "execute_result"
        }
      ],
      "source": [
        "df.sample()"
      ]
    },
    {
      "cell_type": "markdown",
      "metadata": {
        "id": "TlaECU9cvk-Y"
      },
      "source": [
        "Here, some of the datatypes here of some columns does not match. So, in the upcoming section we ought to change it."
      ]
    },
    {
      "cell_type": "markdown",
      "metadata": {
        "id": "0wEpygU_wc_n"
      },
      "source": [
        "## DATA CLEANING"
      ]
    },
    {
      "cell_type": "code",
      "execution_count": 11,
      "metadata": {
        "colab": {
          "base_uri": "https://localhost:8080/"
        },
        "id": "H4V7HBVgwfqf",
        "outputId": "134709a4-fcbd-40f6-e924-42921d78be95"
      },
      "outputs": [
        {
          "name": "stdout",
          "output_type": "stream",
          "text": [
            "483\n"
          ]
        }
      ],
      "source": [
        "# checking for duplicated values\n",
        "print(df.duplicated().sum())"
      ]
    },
    {
      "cell_type": "code",
      "execution_count": 12,
      "metadata": {
        "colab": {
          "base_uri": "https://localhost:8080/"
        },
        "id": "9onNrqQxw5-P",
        "outputId": "868a5cac-f5f0-4e3f-c037-97ea1459dfac"
      },
      "outputs": [
        {
          "name": "stdout",
          "output_type": "stream",
          "text": [
            "None\n",
            "0\n"
          ]
        }
      ],
      "source": [
        "#dropping all duplicates\n",
        "print(df.drop_duplicates(inplace=True))\n",
        "print(df.duplicated().sum())"
      ]
    },
    {
      "cell_type": "code",
      "execution_count": 13,
      "metadata": {
        "colab": {
          "base_uri": "https://localhost:8080/",
          "height": 492
        },
        "id": "zwMH8fxqxEav",
        "outputId": "ff3c96b5-9339-4934-c481-3106c8e6cbc7"
      },
      "outputs": [
        {
          "data": {
            "text/plain": [
              "App                  0\n",
              "Category             0\n",
              "Rating            1465\n",
              "Reviews              0\n",
              "Size                 0\n",
              "Installs             0\n",
              "Type                 1\n",
              "Price                0\n",
              "Content Rating       1\n",
              "Genres               0\n",
              "Last Updated         0\n",
              "Current Ver          8\n",
              "Android Ver          3\n",
              "dtype: int64"
            ]
          },
          "metadata": {},
          "output_type": "display_data"
        }
      ],
      "source": [
        "# checking for null values\n",
        "display(df.isnull().sum())"
      ]
    },
    {
      "cell_type": "code",
      "execution_count": 14,
      "metadata": {
        "colab": {
          "base_uri": "https://localhost:8080/",
          "height": 712
        },
        "id": "jSPQ_T3RxKio",
        "outputId": "a8b61744-7eec-43e4-e6af-d8a48b9f9f27"
      },
      "outputs": [
        {
          "data": {
            "image/png": "[encoded data removed]",
            "text/plain": [
              "<Figure size 700x700 with 2 Axes>"
            ]
          },
          "metadata": {},
          "output_type": "display_data"
        }
      ],
      "source": [
        "# Plotting null values\n",
        "plt.figure(figsize=(7,7))\n",
        "sns.heatmap(df.isnull(), cbar=True, cmap='magma_r')\n",
        "plt.title('Null Value Distribution')\n",
        "plt.show()"
      ]
    },
    {
      "cell_type": "code",
      "execution_count": 15,
      "metadata": {
        "colab": {
          "base_uri": "https://localhost:8080/"
        },
        "id": "em2DEUgixbnQ",
        "outputId": "92530ee8-62bc-4607-8578-2a25306d1b98"
      },
      "outputs": [
        {
          "name": "stdout",
          "output_type": "stream",
          "text": [
            "Rating of type 'float64' has 1465/10358 null values with 14.144%\n",
            "Type of type 'object' has 1/10358 null values with 0.01%\n",
            "Content Rating of type 'object' has 1/10358 null values with 0.01%\n",
            "Current Ver of type 'object' has 8/10358 null values with 0.077%\n",
            "Android Ver of type 'object' has 3/10358 null values with 0.029%\n"
          ]
        }
      ],
      "source": [
        "for col in df.columns:\n",
        "    if df[col].isnull().sum() > 0:\n",
        "        print(f'''{col} of type '{df[col].dtype}' has {df[col].isnull().sum()}/{df.shape[0]} null values with {round(((df[col].isnull().sum())/(df.shape[0])*100),3)}%''')"
      ]
    },
    {
      "cell_type": "code",
      "execution_count": 16,
      "metadata": {
        "id": "mDRsDLIIyLOu"
      },
      "outputs": [],
      "source": [
        "# Since, `Rating` contains 14% null values we are going to fill it with mean\n",
        "df['Rating'].fillna(df['Rating'].mean(), inplace=True)"
      ]
    },
    {
      "cell_type": "markdown",
      "metadata": {
        "id": "ggrg46sEyhtX"
      },
      "source": [
        "Also, all the null value columns like `Current Ver`, `Content Rating`, `Android Ver` and `Type` which have tremendous low null values should be dropped"
      ]
    },
    {
      "cell_type": "code",
      "execution_count": 17,
      "metadata": {
        "colab": {
          "base_uri": "https://localhost:8080/",
          "height": 492
        },
        "id": "ifISvdXDygbn",
        "outputId": "52753640-eaa5-421b-84b9-f4db373b1c84"
      },
      "outputs": [
        {
          "data": {
            "text/plain": [
              "App               0\n",
              "Category          0\n",
              "Rating            0\n",
              "Reviews           0\n",
              "Size              0\n",
              "Installs          0\n",
              "Type              0\n",
              "Price             0\n",
              "Content Rating    0\n",
              "Genres            0\n",
              "Last Updated      0\n",
              "Current Ver       0\n",
              "Android Ver       0\n",
              "dtype: int64"
            ]
          },
          "metadata": {},
          "output_type": "display_data"
        }
      ],
      "source": [
        "# Drop rows with null values in specified columns\n",
        "columns_to_drop_nulls = ['Current Ver', 'Content Rating', 'Android Ver', 'Type']\n",
        "df.dropna(subset=columns_to_drop_nulls, inplace=True)\n",
        "\n",
        "# Verify that null values have been dropped\n",
        "display(df.isnull().sum())"
      ]
    },
    {
      "cell_type": "markdown",
      "metadata": {
        "id": "FK1ICrfvdmJB"
      },
      "source": [
        "We can see `Category` and `Genres` contain same values so we ought to drop and one column, say `Category`"
      ]
    },
    {
      "cell_type": "code",
      "execution_count": 18,
      "metadata": {
        "colab": {
          "base_uri": "https://localhost:8080/",
          "height": 225
        },
        "id": "tnw3EsoVdyH4",
        "outputId": "d2e1c02b-33ee-44fd-a66d-5823e2825869"
      },
      "outputs": [
        {
          "data": {
            "text/plain": [
              "['App',\n",
              " 'Category',\n",
              " 'Rating',\n",
              " 'Reviews',\n",
              " 'Size',\n",
              " 'Installs',\n",
              " 'Type',\n",
              " 'Price',\n",
              " 'Content Rating',\n",
              " 'Last Updated',\n",
              " 'Current Ver',\n",
              " 'Android Ver']"
            ]
          },
          "metadata": {},
          "output_type": "display_data"
        }
      ],
      "source": [
        "# Drop the 'Category' column\n",
        "df.drop('Genres', axis=1, inplace=True)\n",
        "\n",
        "# Verify the column has been dropped\n",
        "display(df.columns.to_list())"
      ]
    },
    {
      "cell_type": "markdown",
      "metadata": {
        "id": "0ALZwAxtzv-f"
      },
      "source": [
        "Now, we ought to change the datatype of some columns which need it"
      ]
    },
    {
      "cell_type": "code",
      "execution_count": 19,
      "metadata": {
        "id": "lCQniMwP0NPu"
      },
      "outputs": [],
      "source": [
        "#changing 'Reviews' from object to int64\n",
        "df['Reviews'] = df['Reviews'].astype('int64')\n",
        "\n",
        "#changing 'Last Updated' from Object to datetime\n",
        "df['Last Updated'] = pd.to_datetime(df['Last Updated'])\n"
      ]
    },
    {
      "cell_type": "code",
      "execution_count": 20,
      "metadata": {
        "colab": {
          "base_uri": "https://localhost:8080/",
          "height": 258
        },
        "id": "55f1f416",
        "outputId": "8bf482f5-949d-4427-ddca-15038cb7b80d"
      },
      "outputs": [
        {
          "data": {
            "text/plain": [
              "dtype('float64')"
            ]
          },
          "metadata": {},
          "output_type": "display_data"
        },
        {
          "data": {
            "text/plain": [
              "989     0.00\n",
              "7452    0.00\n",
              "1800    0.00\n",
              "9414    0.00\n",
              "4405    2.99\n",
              "Name: Price, dtype: float64"
            ]
          },
          "metadata": {},
          "output_type": "display_data"
        }
      ],
      "source": [
        "# Clean the 'Price' column and convert to float64\n",
        "df['Price'] = df['Price'].str.replace('$', '', regex=False)\n",
        "df['Price'] = df['Price'].astype('float64')\n",
        "\n",
        "# Verify the conversion\n",
        "display(df['Price'].dtype)\n",
        "display(df['Price'].sample(5))"
      ]
    },
    {
      "cell_type": "markdown",
      "metadata": {
        "id": "Kb7G38Eo1TPe"
      },
      "source": [
        "Making new columns based on some previous ones..."
      ]
    },
    {
      "cell_type": "markdown",
      "metadata": {
        "id": "sRAw_5u_3D8u"
      },
      "source": [
        "Making a column `Min_Runnable_Android_Ver` based on `Android Ver`"
      ]
    },
    {
      "cell_type": "code",
      "execution_count": 21,
      "metadata": {
        "colab": {
          "base_uri": "https://localhost:8080/",
          "height": 224
        },
        "id": "2560cba8",
        "outputId": "eaf3ebb9-11aa-46a8-f9be-657e25cd8363"
      },
      "outputs": [
        {
          "data": {
            "text/html": [
              "<div>\n",
              "<style scoped>\n",
              "    .dataframe tbody tr th:only-of-type {\n",
              "        vertical-align: middle;\n",
              "    }\n",
              "\n",
              "    .dataframe tbody tr th {\n",
              "        vertical-align: top;\n",
              "    }\n",
              "\n",
              "    .dataframe thead th {\n",
              "        text-align: right;\n",
              "    }\n",
              "</style>\n",
              "<table border=\"1\" class=\"dataframe\">\n",
              "  <thead>\n",
              "    <tr style=\"text-align: right;\">\n",
              "      <th></th>\n",
              "      <th>Android Ver</th>\n",
              "      <th>Min_Runnable_Android_Ver</th>\n",
              "    </tr>\n",
              "  </thead>\n",
              "  <tbody>\n",
              "    <tr>\n",
              "      <th>3301</th>\n",
              "      <td>4.1 and up</td>\n",
              "      <td>4.1</td>\n",
              "    </tr>\n",
              "    <tr>\n",
              "      <th>4560</th>\n",
              "      <td>4.3 and up</td>\n",
              "      <td>4.3</td>\n",
              "    </tr>\n",
              "    <tr>\n",
              "      <th>4511</th>\n",
              "      <td>4.0.3 and up</td>\n",
              "      <td>4.0</td>\n",
              "    </tr>\n",
              "    <tr>\n",
              "      <th>6820</th>\n",
              "      <td>4.1 and up</td>\n",
              "      <td>4.1</td>\n",
              "    </tr>\n",
              "    <tr>\n",
              "      <th>3042</th>\n",
              "      <td>Varies with device</td>\n",
              "      <td>NaN</td>\n",
              "    </tr>\n",
              "  </tbody>\n",
              "</table>\n",
              "</div>"
            ],
            "text/plain": [
              "             Android Ver  Min_Runnable_Android_Ver\n",
              "3301          4.1 and up                       4.1\n",
              "4560          4.3 and up                       4.3\n",
              "4511        4.0.3 and up                       4.0\n",
              "6820          4.1 and up                       4.1\n",
              "3042  Varies with device                       NaN"
            ]
          },
          "metadata": {},
          "output_type": "display_data"
        },
        {
          "data": {
            "text/plain": [
              "dtype('float64')"
            ]
          },
          "metadata": {},
          "output_type": "display_data"
        }
      ],
      "source": [
        "def extract_version_float(android_ver):\n",
        "    if isinstance(android_ver, str):\n",
        "        parts = android_ver.split(' and up')[0].split('-')[0].split('.')\n",
        "        try:\n",
        "            return float('.'.join(parts[:2]))\n",
        "        except ValueError:\n",
        "            return np.nan\n",
        "    return np.nan\n",
        "\n",
        "df['Min_Runnable_Android_Ver'] = df['Android Ver'].apply(extract_version_float)\n",
        "\n",
        "display(df[['Android Ver', 'Min_Runnable_Android_Ver']].sample(5))\n",
        "display(df['Min_Runnable_Android_Ver'].dtype)"
      ]
    },
    {
      "cell_type": "code",
      "execution_count": 22,
      "metadata": {
        "colab": {
          "base_uri": "https://localhost:8080/"
        },
        "id": "fu0uenO32QSO",
        "outputId": "7e41c0ec-4353-4eac-f1ab-7c2579610b6d"
      },
      "outputs": [
        {
          "name": "stdout",
          "output_type": "stream",
          "text": [
            "1231\n"
          ]
        }
      ],
      "source": [
        "# newly formed null values\n",
        "print(df['Min_Runnable_Android_Ver'].isnull().sum())"
      ]
    },
    {
      "cell_type": "code",
      "execution_count": 23,
      "metadata": {
        "colab": {
          "base_uri": "https://localhost:8080/"
        },
        "id": "VZ9_KN992mXm",
        "outputId": "6fb4209c-3a50-4628-9246-2b670cf78b11"
      },
      "outputs": [
        {
          "name": "stdout",
          "output_type": "stream",
          "text": [
            "0\n"
          ]
        }
      ],
      "source": [
        "# handling such null values by filling median values\n",
        "df['Min_Runnable_Android_Ver'].fillna(df['Min_Runnable_Android_Ver'].median(), inplace=True)\n",
        "\n",
        "# Verify that null values have been filled\n",
        "print(df['Min_Runnable_Android_Ver'].isnull().sum())"
      ]
    },
    {
      "cell_type": "markdown",
      "metadata": {
        "id": "SzjlYjPo3JbH"
      },
      "source": [
        "Making a column `Avg_Installs` based on `Installs`"
      ]
    },
    {
      "cell_type": "code",
      "execution_count": 24,
      "metadata": {
        "colab": {
          "base_uri": "https://localhost:8080/",
          "height": 258
        },
        "id": "ZTOHzvHn3TSe",
        "outputId": "58f9a8d6-0fcc-458c-9563-f0758fbfcc6c"
      },
      "outputs": [
        {
          "data": {
            "text/plain": [
              "dtype('int64')"
            ]
          },
          "metadata": {},
          "output_type": "display_data"
        },
        {
          "data": {
            "text/plain": [
              "6999    10000000\n",
              "99       1000000\n",
              "8779       50000\n",
              "9784    10000000\n",
              "3786      100000\n",
              "Name: Avg_Installs, dtype: int64"
            ]
          },
          "metadata": {},
          "output_type": "display_data"
        }
      ],
      "source": [
        "# Clean the 'Installs' column and convert to int64\n",
        "df['Avg_Installs'] = df['Installs'].str.replace('+', '', regex=False).str.replace(',', '', regex=False)\n",
        "df['Avg_Installs'] = df['Avg_Installs'].astype('int64')\n",
        "\n",
        "# Verify the conversion\n",
        "display(df['Avg_Installs'].dtype)\n",
        "display(df['Avg_Installs'].sample(5))"
      ]
    },
    {
      "cell_type": "code",
      "execution_count": 25,
      "metadata": {
        "colab": {
          "base_uri": "https://localhost:8080/"
        },
        "id": "kNyqNFUqbjBw",
        "outputId": "de7b14ea-9b73-4958-b193-2acb75a5a1d6"
      },
      "outputs": [
        {
          "name": "stdout",
          "output_type": "stream",
          "text": [
            "0\n"
          ]
        }
      ],
      "source": [
        "# newly formed null values\n",
        "print(df['Avg_Installs'].isnull().sum())"
      ]
    },
    {
      "cell_type": "markdown",
      "metadata": {},
      "source": [
        "### EXPORTING FILE TO CSV"
      ]
    },
    {
      "cell_type": "code",
      "execution_count": 26,
      "metadata": {},
      "outputs": [],
      "source": [
        "df.to_csv('cleaned_googleplaystore.csv', index=False)"
      ]
    }
  ],
  "metadata": {
    "colab": {
      "provenance": []
    },
    "kernelspec": {
      "display_name": "Python 3",
      "name": "python3"
    },
    "language_info": {
      "codemirror_mode": {
        "name": "ipython",
        "version": 3
      },
      "file_extension": ".py",
      "mimetype": "text/x-python",
      "name": "python",
      "nbconvert_exporter": "python",
      "pygments_lexer": "ipython3",
      "version": "3.12.10"
    }
  },
  "nbformat": 4,
  "nbformat_minor": 0
}
